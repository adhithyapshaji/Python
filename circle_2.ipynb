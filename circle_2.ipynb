{
  "nbformat": 4,
  "nbformat_minor": 0,
  "metadata": {
    "colab": {
      "name": "circle 2",
      "provenance": [],
      "collapsed_sections": [],
      "authorship_tag": "ABX9TyN0mLV1G5Dz6G3zLVymyg1L",
      "include_colab_link": true
    },
    "kernelspec": {
      "name": "python3",
      "display_name": "Python 3"
    }
  },
  "cells": [
    {
      "cell_type": "markdown",
      "metadata": {
        "id": "view-in-github",
        "colab_type": "text"
      },
      "source": [
        "<a href=\"https://colab.research.google.com/github/adhithyapshaji/Python/blob/main/circle_2.ipynb\" target=\"_parent\"><img src=\"https://colab.research.google.com/assets/colab-badge.svg\" alt=\"Open In Colab\"/></a>"
      ]
    },
    {
      "cell_type": "markdown",
      "metadata": {
        "id": "IhlDoBDhPyfU"
      },
      "source": [
        "2)display future leap years from current year to a final year entered by user?"
      ]
    },
    {
      "cell_type": "code",
      "metadata": {
        "colab": {
          "base_uri": "https://localhost:8080/"
        },
        "id": "PKGG-ovsbNJP",
        "outputId": "cdc3355f-363f-49ca-8d59-ee1d158450b9"
      },
      "source": [
        "s=int(input(\"enter staring year\"))\r\n",
        "e=int(input(\"enter ending year\"))\r\n",
        "print(\"leap years between\",s,\"and\",e)\r\n",
        "while (s<=e):\r\n",
        "    if ((s%400==0) or ((s%4==0) and (s%100!=0))):\r\n",
        "     print(s)\r\n",
        "    s=s+1"
      ],
      "execution_count": null,
      "outputs": [
        {
          "output_type": "stream",
          "text": [
            "enter staring year2000\n",
            "enter ending year2021\n",
            "leap years between 2000 and 2021\n",
            "2000\n",
            "2004\n",
            "2008\n",
            "2012\n",
            "2016\n",
            "2020\n"
          ],
          "name": "stdout"
        }
      ]
    },
    {
      "cell_type": "markdown",
      "metadata": {
        "id": "szsYhXiqlzw7"
      },
      "source": [
        "3)(c)form a list of vowels selected from a given word?  "
      ]
    },
    {
      "cell_type": "code",
      "metadata": {
        "colab": {
          "base_uri": "https://localhost:8080/"
        },
        "id": "wbfF11VZmkQb",
        "outputId": "2976f653-2936-46b0-efe2-99783a99804d"
      },
      "source": [
        "word=input(\"enter a word:\")\r\n",
        "vowels=['a','e','i','o','u']\r\n",
        "list=[]\r\n",
        "for x in word:\r\n",
        "  if(x in vowels and x not in list):\r\n",
        "    list.append(x)\r\n",
        "print(\"vowels present in the given word is: \",list)    "
      ],
      "execution_count": null,
      "outputs": [
        {
          "output_type": "stream",
          "text": [
            "enter a word:morning\n",
            "vowels present in the given word is:  ['o', 'i']\n"
          ],
          "name": "stdout"
        }
      ]
    },
    {
      "cell_type": "markdown",
      "metadata": {
        "id": "W4UMBvKiDrIj"
      },
      "source": [
        "4)count the occurrence of each wor in aline of text?"
      ]
    },
    {
      "cell_type": "code",
      "metadata": {
        "id": "97yzpM8aEEhB",
        "colab": {
          "base_uri": "https://localhost:8080/",
          "height": 128
        },
        "outputId": "df572409-dfbf-4f0b-ef1f-3a41ecc6a6ee"
      },
      "source": [
        "def word counts(txt):\r\n",
        "  count=dict()\r\n",
        "  words=txt.split()\r\n",
        "  for word in words:\r\n",
        "   if word in counts:\r\n",
        "      counts[word]+=1\r\n",
        "   else:\r\n",
        "      counts[word]=1\r\n",
        "      return counts\r\n",
        "  print(word count('the quick brown fox jumps over the lazy dog.')) "
      ],
      "execution_count": null,
      "outputs": [
        {
          "output_type": "error",
          "ename": "SyntaxError",
          "evalue": "ignored",
          "traceback": [
            "\u001b[0;36m  File \u001b[0;32m\"<ipython-input-1-d790c2279b65>\"\u001b[0;36m, line \u001b[0;32m1\u001b[0m\n\u001b[0;31m    def word counts(txt):\u001b[0m\n\u001b[0m                  ^\u001b[0m\n\u001b[0;31mSyntaxError\u001b[0m\u001b[0;31m:\u001b[0m invalid syntax\n"
          ]
        }
      ]
    },
    {
      "cell_type": "code",
      "metadata": {
        "colab": {
          "base_uri": "https://localhost:8080/",
          "height": 128
        },
        "id": "twlIUaNZfXiG",
        "outputId": "a5fd46ad-901b-4746-d179-dd37ed8c8656"
      },
      "source": [
        "def word counts(str):\r\n",
        "counts= dict()\r\n",
        "words=str.split()\r\n",
        "for word in words:\r\n",
        "if word in counts:\r\n",
        "counts[word]+=1\r\n",
        "else:\r\n",
        "counts[word]=1\r\n",
        "return counts\r\n",
        "print( word count(‘the quick brown fox jumps over the lazy dog.’))\r\n"
      ],
      "execution_count": null,
      "outputs": [
        {
          "output_type": "error",
          "ename": "SyntaxError",
          "evalue": "ignored",
          "traceback": [
            "\u001b[0;36m  File \u001b[0;32m\"<ipython-input-72-a859cc3f1b8e>\"\u001b[0;36m, line \u001b[0;32m1\u001b[0m\n\u001b[0;31m    def word counts(str):\u001b[0m\n\u001b[0m                  ^\u001b[0m\n\u001b[0;31mSyntaxError\u001b[0m\u001b[0;31m:\u001b[0m invalid syntax\n"
          ]
        }
      ]
    },
    {
      "cell_type": "markdown",
      "metadata": {
        "id": "0X-YBU5Jp-et"
      },
      "source": [
        "10)Accept the radius from user an d find area of circle?"
      ]
    },
    {
      "cell_type": "code",
      "metadata": {
        "colab": {
          "base_uri": "https://localhost:8080/"
        },
        "id": "fpUU4yWTqX51",
        "outputId": "baf69812-7a9d-4cbb-8c35-23d0b55e3adf"
      },
      "source": [
        "from mat\r\n",
        "h import pi\r\n",
        "r=float(input(\"enter the radius of circle: \"))\r\n",
        "print(\"area of the circle is:\"+str(pi *r**2))"
      ],
      "execution_count": null,
      "outputs": [
        {
          "output_type": "stream",
          "text": [
            "enter the radius of circle: 5\n",
            "area of the circle is:78.53981633974483\n"
          ],
          "name": "stdout"
        }
      ]
    },
    {
      "cell_type": "markdown",
      "metadata": {
        "id": "DhfH8RncHajx"
      },
      "source": [
        "11.find the biggest among 3 numbers?"
      ]
    },
    {
      "cell_type": "code",
      "metadata": {
        "colab": {
          "base_uri": "https://localhost:8080/"
        },
        "id": "KWGpqjglHpf5",
        "outputId": "2dad0919-d89b-4408-f13e-eb2abd65b6a5"
      },
      "source": [
        "num1=float(input(\"enter first number:\"))\r\n",
        "num2=float(input(\"enter second number:\"))\r\n",
        "num3=float(input(\"enter third number:\"))\r\n",
        "if(num1>num2)and (num1>num3):\r\n",
        "  largest=num1\r\n",
        "\r\n",
        "elif(num2>num1)and(num2>num3):\r\n",
        "    largest=num2\r\n",
        "else:\r\n",
        "      largest=num3\r\n",
        "print(\"the largest number is\",largest)"
      ],
      "execution_count": null,
      "outputs": [
        {
          "output_type": "stream",
          "text": [
            "enter first number:10\n",
            "enter second number:15\n",
            "enter third number:11\n",
            "the largest number is 15.0\n"
          ],
          "name": "stdout"
        }
      ]
    },
    {
      "cell_type": "markdown",
      "metadata": {
        "id": "IVP8H4e-d2CK"
      },
      "source": [
        "20)from a list of intergers,create a list removing even number?"
      ]
    },
    {
      "cell_type": "code",
      "metadata": {
        "colab": {
          "base_uri": "https://localhost:8080/"
        },
        "id": "HOdxoYG0pBlU",
        "outputId": "804acc37-f3c0-4ba6-93ca-b56a0af3e710"
      },
      "source": [
        "num=[2,5,8,120,12,15,25,44,20,27]\r\n",
        "num=[x for x in num if x%2!=0]\r\n",
        "print(num)"
      ],
      "execution_count": null,
      "outputs": [
        {
          "output_type": "stream",
          "text": [
            "[5, 15, 25, 27]\n"
          ],
          "name": "stdout"
        }
      ]
    },
    {
      "cell_type": "markdown",
      "metadata": {
        "id": "rNBWIHCuVuAW"
      },
      "source": [
        "13) create a list of colors from comma-separated color names entered by user.Display first and last colors."
      ]
    },
    {
      "cell_type": "code",
      "metadata": {
        "colab": {
          "base_uri": "https://localhost:8080/"
        },
        "id": "ahCTafhEWBuc",
        "outputId": "8ec7b1f5-b137-42e8-f709-93feeecd7cae"
      },
      "source": [
        "color_list=[\"red\",\"rose\",\"white\",\"pink\",\"green\"]\r\n",
        "print(\"%s%s\"%(color_list[0],color_list[-1]))"
      ],
      "execution_count": null,
      "outputs": [
        {
          "output_type": "stream",
          "text": [
            "redgreen\n"
          ],
          "name": "stdout"
        }
      ]
    },
    {
      "cell_type": "markdown",
      "metadata": {
        "id": "WhtwZJubVazq"
      },
      "source": [
        "14)accept an integer n and compute n+nn+nnn."
      ]
    },
    {
      "cell_type": "code",
      "metadata": {
        "colab": {
          "base_uri": "https://localhost:8080/"
        },
        "id": "gf2yF0bzVbJK",
        "outputId": "832e94f5-e4bb-403c-8d58-2c83caec6c63"
      },
      "source": [
        "a=int(input(\"input an integer:\"))\r\n",
        "n1= int(\"%s\"% a)\r\n",
        "n2= int(\"%s%s\"% (a,a))\r\n",
        "n3= int (\"%s%s%s\"% (a,a,a))\r\n",
        "print(n1+n2+n3)"
      ],
      "execution_count": null,
      "outputs": [
        {
          "output_type": "stream",
          "text": [
            "input an integer:12\n",
            "122436\n"
          ],
          "name": "stdout"
        }
      ]
    },
    {
      "cell_type": "markdown",
      "metadata": {
        "id": "KJSgnkMrWbza"
      },
      "source": [
        "16)create a string from given string where first and last characters exchanged"
      ]
    },
    {
      "cell_type": "code",
      "metadata": {
        "id": "Lg3qAMgYWl7x"
      },
      "source": [
        "def chars_mix_up(a,b):\r\n",
        "  new_a = b[:2]+a[2:]\r\n",
        "  new_b =a[:2]+b[2:]\r\n",
        "  return new_a + ''+new_b \r\n",
        "  print(chars_mix_up('abc','xyz'))"
      ],
      "execution_count": null,
      "outputs": []
    },
    {
      "cell_type": "markdown",
      "metadata": {
        "id": "yvRlHpQzV227"
      },
      "source": [
        "17)Sort dictionary in ascending and descending order."
      ]
    },
    {
      "cell_type": "code",
      "metadata": {
        "colab": {
          "base_uri": "https://localhost:8080/"
        },
        "id": "b5vJm5UxV3Hq",
        "outputId": "d6871e58-629c-47db-afe4-22a97fe007aa"
      },
      "source": [
        "import operator\r\n",
        "d={1:2,3:4,4:3,2:1,0:0}\r\n",
        "s=sorted(d.items(),key=operator.itemgetter(1))\r\n",
        "print('ascending order:',s)\r\n",
        "s1=dict(sorted(d.items(),key=operator.itemgetter(1),reverse=True))\r\n",
        "print('descending order:',s1)"
      ],
      "execution_count": null,
      "outputs": [
        {
          "output_type": "stream",
          "text": [
            "ascending order: [(0, 0), (2, 1), (1, 2), (4, 3), (3, 4)]\n",
            "descending order: {3: 4, 4: 3, 1: 2, 2: 1, 0: 0}\n"
          ],
          "name": "stdout"
        }
      ]
    },
    {
      "cell_type": "markdown",
      "metadata": {
        "id": "iQQnb9UxWYFF"
      },
      "source": [
        "18)merge two dictionaries"
      ]
    },
    {
      "cell_type": "code",
      "metadata": {
        "id": "Eo5P05REWn7p"
      },
      "source": [
        "def Merge(dict1, dict2):\r\n",
        "  return(dict2,update(dict1)) \r\n",
        "  dict1={'a':10,'b':8}\r\n",
        "  dict2={'d':6,'c':4}\r\n",
        "  print(Merge(dict1,dict2))\r\n",
        "  print(dict2)"
      ],
      "execution_count": null,
      "outputs": []
    },
    {
      "cell_type": "markdown",
      "metadata": {
        "id": "u5_jrgCZWMS9"
      },
      "source": [
        "19)find gud of 2 nummbers."
      ]
    },
    {
      "cell_type": "code",
      "metadata": {
        "colab": {
          "base_uri": "https://localhost:8080/",
          "height": 195
        },
        "id": "5yY3HYQlWSmV",
        "outputId": "4c41c4d2-87a0-4a0a-e010-b666c98425a3"
      },
      "source": [
        "print(\"The gud of 60 and 48 is:\", end=\"\")\r\n",
        "print(math.gcd(60,48))"
      ],
      "execution_count": null,
      "outputs": [
        {
          "output_type": "stream",
          "text": [
            "The gud of 60 and 48 is:"
          ],
          "name": "stdout"
        },
        {
          "output_type": "error",
          "ename": "NameError",
          "evalue": "ignored",
          "traceback": [
            "\u001b[0;31m---------------------------------------------------------------------------\u001b[0m",
            "\u001b[0;31mNameError\u001b[0m                                 Traceback (most recent call last)",
            "\u001b[0;32m<ipython-input-4-a488ed21da3f>\u001b[0m in \u001b[0;36m<module>\u001b[0;34m()\u001b[0m\n\u001b[1;32m      1\u001b[0m \u001b[0mprint\u001b[0m\u001b[0;34m(\u001b[0m\u001b[0;34m\"The gud of 60 and 48 is:\"\u001b[0m\u001b[0;34m,\u001b[0m \u001b[0mend\u001b[0m\u001b[0;34m=\u001b[0m\u001b[0;34m\"\"\u001b[0m\u001b[0;34m)\u001b[0m\u001b[0;34m\u001b[0m\u001b[0;34m\u001b[0m\u001b[0m\n\u001b[0;32m----> 2\u001b[0;31m \u001b[0mprint\u001b[0m\u001b[0;34m(\u001b[0m\u001b[0mmath\u001b[0m\u001b[0;34m.\u001b[0m\u001b[0mgcd\u001b[0m\u001b[0;34m(\u001b[0m\u001b[0;36m60\u001b[0m\u001b[0;34m,\u001b[0m\u001b[0;36m48\u001b[0m\u001b[0;34m)\u001b[0m\u001b[0;34m)\u001b[0m\u001b[0;34m\u001b[0m\u001b[0;34m\u001b[0m\u001b[0m\n\u001b[0m",
            "\u001b[0;31mNameError\u001b[0m: name 'math' is not defined"
          ]
        }
      ]
    }
  ]
}