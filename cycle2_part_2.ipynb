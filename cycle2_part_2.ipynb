{
  "nbformat": 4,
  "nbformat_minor": 0,
  "metadata": {
    "colab": {
      "name": "cycle2-part 2",
      "provenance": [],
      "collapsed_sections": [],
      "authorship_tag": "ABX9TyNkAC7xT9C1Uw/r7TFOOLYu",
      "include_colab_link": true
    },
    "kernelspec": {
      "name": "python3",
      "display_name": "Python 3"
    }
  },
  "cells": [
    {
      "cell_type": "markdown",
      "metadata": {
        "id": "view-in-github",
        "colab_type": "text"
      },
      "source": [
        "<a href=\"https://colab.research.google.com/github/adhithyapshaji/Python/blob/main/cycle2_part_2.ipynb\" target=\"_parent\"><img src=\"https://colab.research.google.com/assets/colab-badge.svg\" alt=\"Open In Colab\"/></a>"
      ]
    },
    {
      "cell_type": "markdown",
      "metadata": {
        "id": "M-AL2-DxgJVg"
      },
      "source": [
        "1)print your address"
      ]
    },
    {
      "cell_type": "code",
      "metadata": {
        "colab": {
          "base_uri": "https://localhost:8080/"
        },
        "id": "17imLAMUgWEB",
        "outputId": "15c81a87-e2f8-4e53-829f-04c59f873b88"
      },
      "source": [
        "strl=str(input(\"enter the address::\"))\r\n",
        "print(strl)"
      ],
      "execution_count": null,
      "outputs": [
        {
          "output_type": "stream",
          "text": [
            "enter the address::punchavallil(H)\n",
            "punchavallil(H)\n"
          ],
          "name": "stdout"
        }
      ]
    },
    {
      "cell_type": "markdown",
      "metadata": {
        "id": "LNk0fEEJiR5g"
      },
      "source": [
        "3)a)Generate positive list of numbers from a given list of integers"
      ]
    },
    {
      "cell_type": "code",
      "metadata": {
        "colab": {
          "base_uri": "https://localhost:8080/"
        },
        "id": "OiuLLRNvil4o",
        "outputId": "a78ca8e1-41ce-47fa-a927-59669071bd53"
      },
      "source": [
        "mylist=[25,11,45,63,89]\r\n",
        "print(\"first list:\",mylist)\r\n",
        "newlist=[x for x in mylist if x>0]\r\n",
        "print(\"newlist:\",newlist)"
      ],
      "execution_count": null,
      "outputs": [
        {
          "output_type": "stream",
          "text": [
            "first list: [25, 11, 45, 63, 89]\n",
            "newlist: [25, 11, 45, 63, 89]\n"
          ],
          "name": "stdout"
        }
      ]
    },
    {
      "cell_type": "markdown",
      "metadata": {
        "id": "bp8qXxCIjVOI"
      },
      "source": [
        "b) square of N numbers"
      ]
    },
    {
      "cell_type": "code",
      "metadata": {
        "colab": {
          "base_uri": "https://localhost:8080/"
        },
        "id": "ARK3c1_Lj376",
        "outputId": "2a7b20a5-9dcb-40c1-c6c0-9d90178bce5e"
      },
      "source": [
        "mylist=[2,3,5,8,6,3,]\r\n",
        "print(\"first list:\",mylist)\r\n",
        "newlist=[number**2 for number in mylist]\r\n",
        "print(\"newlist:\",newlist)\r\n"
      ],
      "execution_count": null,
      "outputs": [
        {
          "output_type": "stream",
          "text": [
            "first list: [2, 3, 5, 8, 6, 3]\n",
            "newlist: [4, 9, 25, 64, 36, 9]\n"
          ],
          "name": "stdout"
        }
      ]
    },
    {
      "cell_type": "markdown",
      "metadata": {
        "id": "LLcuGSyckXc1"
      },
      "source": [
        "5)Prompt the user for a list of integers. For all values greater than 100, store ‘over’ instead"
      ]
    },
    {
      "cell_type": "code",
      "metadata": {
        "colab": {
          "base_uri": "https://localhost:8080/"
        },
        "id": "e5xXDen6k64e",
        "outputId": "d8e7e9d4-ddce-481e-be75-7ed5024c1a28"
      },
      "source": [
        "x=[]\r\n",
        "n=int(input(\"enter any integers :\"))\r\n",
        "for i in range(1,n+1):\r\n",
        "  a=int(input())\r\n",
        "  if (a>100):\r\n",
        "    x.append('over')\r\n",
        "  else:\r\n",
        "    x.append(a)\r\n",
        "print(\"modified list :\" ,x)"
      ],
      "execution_count": null,
      "outputs": [
        {
          "output_type": "stream",
          "text": [
            "enter any integers :4\n",
            "40\n",
            "60\n",
            "100\n",
            "50\n",
            "modified list : [40, 60, 100, 50]\n"
          ],
          "name": "stdout"
        }
      ]
    },
    {
      "cell_type": "markdown",
      "metadata": {
        "id": "ldhsObNIlmE3"
      },
      "source": [
        "6)Store a list of first names. Count the occurrences of ‘a’ within the list"
      ]
    },
    {
      "cell_type": "code",
      "metadata": {
        "colab": {
          "base_uri": "https://localhost:8080/"
        },
        "id": "TJOIeUn_lszA",
        "outputId": "e6de9d8a-a169-491b-a760-7daea23244de"
      },
      "source": [
        "list1 = [\"a\",\"b\",\"c\",\"a\",\"b\"]\r\n",
        "print(list1.count(\"b\"))\r\n"
      ],
      "execution_count": null,
      "outputs": [
        {
          "output_type": "stream",
          "text": [
            "2\n"
          ],
          "name": "stdout"
        }
      ]
    },
    {
      "cell_type": "markdown",
      "metadata": {
        "id": "6RUmDwhFl6I_"
      },
      "source": [
        "8)Get a string from an input string where all occurrences of first character replaced with ‘$’, except first character.[eg: onion -> oni$n] "
      ]
    },
    {
      "cell_type": "code",
      "metadata": {
        "colab": {
          "base_uri": "https://localhost:8080/"
        },
        "id": "d0aKYSx7l6hK",
        "outputId": "4a2c26b9-eb75-457e-f90b-c24018b68859"
      },
      "source": [
        "def change_char(str1):\r\n",
        " char=str1[0]\r\n",
        " str1=str1.replace(char,'$')\r\n",
        " str1=char+str1[1:]\r\n",
        " return str1\r\n",
        "print(change_char('onio_'))"
      ],
      "execution_count": null,
      "outputs": [
        {
          "output_type": "stream",
          "text": [
            "oni$_\n"
          ],
          "name": "stdout"
        }
      ]
    },
    {
      "cell_type": "markdown",
      "metadata": {
        "id": "ziOWr8YYnx5N"
      },
      "source": [
        "9)Create a string from given string where first and last characters exchanged.   [eg: python -> nythop]"
      ]
    },
    {
      "cell_type": "code",
      "metadata": {
        "colab": {
          "base_uri": "https://localhost:8080/"
        },
        "id": "BuvC48VTti4x",
        "outputId": "2dd1e9f9-79af-4d89-fd3f-62d8723d3973"
      },
      "source": [
        "a=input(\"enter a string:\")\r\n",
        "print(\"new string:\")\r\n",
        "print(a[-1]+a[1:1]+a[0])"
      ],
      "execution_count": null,
      "outputs": [
        {
          "output_type": "stream",
          "text": [
            "enter a string:python\n",
            "new string:\n",
            "np\n"
          ],
          "name": "stdout"
        }
      ]
    },
    {
      "cell_type": "markdown",
      "metadata": {
        "id": "n_KCvVszu4aX"
      },
      "source": [
        "15)Print out all colors from color-list1 not contained in color-list2. \r\n",
        "\r\n"
      ]
    },
    {
      "cell_type": "code",
      "metadata": {
        "colab": {
          "base_uri": "https://localhost:8080/"
        },
        "id": "6S9Al6A9vKod",
        "outputId": "6070dc8a-1c7d-4ed1-d757-2a28e227f5d3"
      },
      "source": [
        "list1 = [\"White\", \"Black\", \"Red\"]\r\n",
        "list2 = [\"Red\", \"Green\"]\r\n",
        "mylist = list1 + list2\r\n",
        "mylist = list(dict.fromkeys(mylist))\r\n",
        "print(mylist)\r\n"
      ],
      "execution_count": null,
      "outputs": [
        {
          "output_type": "stream",
          "text": [
            "['White', 'Black', 'Red', 'Green']\n"
          ],
          "name": "stdout"
        }
      ]
    }
  ]
}