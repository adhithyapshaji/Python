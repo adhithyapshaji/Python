{
  "nbformat": 4,
  "nbformat_minor": 0,
  "metadata": {
    "colab": {
      "name": "python cycle1.ipynb",
      "provenance": [],
      "collapsed_sections": [],
      "authorship_tag": "ABX9TyMO2G0T87glMFjwxyf9+tVS",
      "include_colab_link": true
    },
    "kernelspec": {
      "name": "python3",
      "display_name": "Python 3"
    }
  },
  "cells": [
    {
      "cell_type": "markdown",
      "metadata": {
        "id": "view-in-github",
        "colab_type": "text"
      },
      "source": [
        "<a href=\"https://colab.research.google.com/github/adhithyapshaji/Python/blob/main/python_cycle1.ipynb\" target=\"_parent\"><img src=\"https://colab.research.google.com/assets/colab-badge.svg\" alt=\"Open In Colab\"/></a>"
      ]
    },
    {
      "cell_type": "code",
      "metadata": {
        "id": "z9QCkW2G5WCU"
      },
      "source": [
        ""
      ],
      "execution_count": null,
      "outputs": []
    },
    {
      "cell_type": "code",
      "metadata": {
        "colab": {
          "base_uri": "https://localhost:8080/"
        },
        "id": "t9iuGWt8eF_q",
        "outputId": "47373357-f05f-4846-e5f5-f53d571fa215"
      },
      "source": [
        "a=1\r\n",
        "print(\"the value of\",a,\"is of the type\",type(a))\r\n",
        "b=\"hello\"\r\n",
        "print(\"the value of\",b,\"is of the type\",type(b))\r\n",
        "c=3.14\r\n",
        "print(\"the value of\",c,\"is of the type\",type(c))\r\n",
        "d=2j\r\n",
        "print(\"the value of\",d,\"is of the type\",type(d))\r\n",
        "e={\"ads\",\"web\",\"python\"}\r\n",
        "print(\"the value of\",e,\"is of the type\",type(e))\r\n",
        "f={\"ads\",\"web\",\"python\"}\r\n",
        "print(\"the value of\",f,\"is of the type\",type(f))\r\n",
        "g={\"ads\",\"web\",\"python\"}\r\n",
        "print(\"the value of\",g,\"is of the type\",type(g))\r\n",
        "h=range(5)\r\n",
        "print(\"the value of\",h,\"is of the type\",type(h))\r\n",
        "i=True\r\n",
        "print(\"the value of\",i,\"is of the type\",type(i))"
      ],
      "execution_count": null,
      "outputs": [
        {
          "output_type": "stream",
          "text": [
            "the value of 1 is of the type <class 'int'>\n",
            "the value of hello is of the type <class 'str'>\n",
            "the value of 3.14 is of the type <class 'float'>\n",
            "the value of 2j is of the type <class 'complex'>\n",
            "the value of {'ads', 'python', 'web'} is of the type <class 'set'>\n",
            "the value of {'ads', 'python', 'web'} is of the type <class 'set'>\n",
            "the value of {'ads', 'python', 'web'} is of the type <class 'set'>\n",
            "the value of range(0, 5) is of the type <class 'range'>\n",
            "the value of True is of the type <class 'bool'>\n"
          ],
          "name": "stdout"
        }
      ]
    },
    {
      "cell_type": "code",
      "metadata": {
        "colab": {
          "base_uri": "https://localhost:8080/"
        },
        "id": "q3Al2fsm60ub",
        "outputId": "8290672b-7bed-4728-c7ac-0e6696d3abac"
      },
      "source": [
        "print(\"Hello,world!\")"
      ],
      "execution_count": null,
      "outputs": [
        {
          "output_type": "stream",
          "text": [
            "Hello,world!\n"
          ],
          "name": "stdout"
        }
      ]
    },
    {
      "cell_type": "code",
      "metadata": {
        "colab": {
          "base_uri": "https://localhost:8080/"
        },
        "id": "2N2FZE8-6y6T",
        "outputId": "4c581482-ae6a-416c-981c-2a19899fd35a"
      },
      "source": [
        "x=int(input(\"eneter a integer value:\"))\r\n",
        "print(x)"
      ],
      "execution_count": null,
      "outputs": [
        {
          "output_type": "stream",
          "text": [
            "eneter a integer value:5\n",
            "5\n"
          ],
          "name": "stdout"
        }
      ]
    },
    {
      "cell_type": "code",
      "metadata": {
        "colab": {
          "base_uri": "https://localhost:8080/"
        },
        "id": "0rO2Go0WHxO4",
        "outputId": "e79af067-ded7-4aaa-e2d1-736935dc2ed1"
      },
      "source": [
        "eneter a integer value:5\r\n",
        "5)\r\n",
        "      \r\n",
        "      \r\n",
        "      \r\n",
        "      \r\n",
        "      \r\n",
        "      "
      ],
      "execution_count": null,
      "outputs": [
        {
          "output_type": "stream",
          "text": [
            "enter the value of frist integer:5\n",
            "enter the value of second integer:9\n",
            "sum: 14\n"
          ],
          "name": "stdout"
        }
      ]
    },
    {
      "cell_type": "code",
      "metadata": {
        "id": "d-3o8TeD8nHz",
        "colab": {
          "base_uri": "https://localhost:8080/"
        },
        "outputId": "be4503f1-3b9f-4c9f-d6e9-2a6e98b982b7"
      },
      "source": [
        "x=float(input(\"enter the first float value:\"))\r\n",
        "y=float(input(\"enterthe second float value:\"))\r\n",
        "z=x*y\r\n",
        "print(\"product:\",z)"
      ],
      "execution_count": null,
      "outputs": [
        {
          "output_type": "stream",
          "text": [
            "enter the first float value:3.0\n",
            "enterthe second float value:4.0\n",
            "product: 12.0\n"
          ],
          "name": "stdout"
        }
      ]
    },
    {
      "cell_type": "code",
      "metadata": {
        "colab": {
          "base_uri": "https://localhost:8080/"
        },
        "id": "dHAXVSylVZWG",
        "outputId": "b3717ce5-3f09-4f80-fb1b-b15808abb975"
      },
      "source": [
        "a=int(input(\"ënter the first value:\"))\r\n",
        "b=int(input(\"enter the second value:\"))\r\n",
        "q=a//b\r\n",
        "print(\"quotient:\",q)\r\n",
        "r=a%b\r\n",
        "print(\"reminder:\",r)\r\n"
      ],
      "execution_count": null,
      "outputs": [
        {
          "output_type": "stream",
          "text": [
            "ënter the first value:10\n",
            "enter the second value:2\n",
            "quotient: 5\n",
            "reminder: 0\n"
          ],
          "name": "stdout"
        }
      ]
    },
    {
      "cell_type": "code",
      "metadata": {
        "colab": {
          "base_uri": "https://localhost:8080/"
        },
        "id": "SixeOm37WmyS",
        "outputId": "4a8564c2-e45d-488b-e09c-6c74a7af8ba6"
      },
      "source": [
        "x=float(input(\"enter the first number :\"))\r\n",
        "y=float(input(\"enter the second number :\"))\r\n",
        "print(\"value of the first number before swapping :\",x)\r\n",
        "print(\"value of the second number before swapping :\",y)\r\n",
        "z=x\r\n",
        "x=y\r\n",
        "y=z\r\n",
        "print(\"value of the first number after swapping :\",x)\r\n",
        "print(\"value of the second number after swapping :\",y)\r\n"
      ],
      "execution_count": null,
      "outputs": [
        {
          "output_type": "stream",
          "text": [
            "enter the first number :1.0\n",
            "enter the second number :9.0\n",
            "value of the first number before swapping : 1.0\n",
            "value of the second number before swapping : 9.0\n",
            "value of the first number after swapping : 9.0\n",
            "value of the second number after swapping : 1.0\n"
          ],
          "name": "stdout"
        }
      ]
    },
    {
      "cell_type": "code",
      "metadata": {
        "colab": {
          "base_uri": "https://localhost:8080/"
        },
        "id": "Vgo8E7_8YezK",
        "outputId": "6dccbed0-b98c-4dc4-8825-840e69b1ad98"
      },
      "source": [
        "x=int(input(\"enter any number :\"))\r\n",
        "y = x%2\r\n",
        "if y==0:\r\n",
        "  print(x,\"is an even number.\")\r\n",
        "else:\r\n",
        "    print(x,\"is an odd number.\")\r\n"
      ],
      "execution_count": null,
      "outputs": [
        {
          "output_type": "stream",
          "text": [
            "enter any number :2\n",
            "2 is an even number.\n"
          ],
          "name": "stdout"
        }
      ]
    },
    {
      "cell_type": "code",
      "metadata": {
        "colab": {
          "base_uri": "https://localhost:8080/"
        },
        "id": "8T6_k1NSZBV6",
        "outputId": "faeee0a1-0abb-4d2f-9caf-6211ee2c0b88"
      },
      "source": [
        "ch=input(\"enter any character :\")\r\n",
        "if (ch=='A'or ch=='E' or ch=='I' or ch=='O' or ch=='U'or ch=='a' or ch=='e' or ch=='i' or ch=='o' or ch=='u'):\r\n",
        "  print(ch,\"is a vowel.\")\r\n",
        "else:\r\n",
        "  print(ch,\"is a consonant.\")\r\n"
      ],
      "execution_count": null,
      "outputs": [
        {
          "output_type": "stream",
          "text": [
            "enter any character :b\n",
            "b is a consonant.\n"
          ],
          "name": "stdout"
        }
      ]
    },
    {
      "cell_type": "code",
      "metadata": {
        "colab": {
          "base_uri": "https://localhost:8080/"
        },
        "id": "iymlo-UIZHVI",
        "outputId": "86166c59-7764-4c10-d5e2-8edb69537711"
      },
      "source": [
        "a=float(input(\"enter the first number :\"))\r\n",
        "b=float(input(\"enter the second number :\"))\r\n",
        "c=float(input(\"enter the third number :\"))\r\n",
        "if (a>b) and (a>c):\r\n",
        "  print(a,\"is largest number.\")\r\n",
        "elif (b>a) and (b>c):\r\n",
        "  print(b,\"is the largest number.\")\r\n",
        "else:\r\n",
        "  print(c,\"is the largest number.\")\r\n"
      ],
      "execution_count": null,
      "outputs": [
        {
          "output_type": "stream",
          "text": [
            "enter the first number :6\n",
            "enter the second number :9\n",
            "enter the third number :5\n",
            "9.0 is the largest number.\n"
          ],
          "name": "stdout"
        }
      ]
    },
    {
      "cell_type": "code",
      "metadata": {
        "colab": {
          "base_uri": "https://localhost:8080/"
        },
        "id": "pRrfJQghaNUM",
        "outputId": "9df5c98f-ea21-484d-98f3-a65cba00ae3d"
      },
      "source": [
        "yr=int(input(\"enter a year :\"))\r\n",
        "if ((yr%400==0) or ((yr%4==0) and (yr%100!=0))):\r\n",
        " print(yr,\"is a leap year.\")\r\n",
        "else:\r\n",
        "  print(yr,\"is not a leap year.\")\r\n",
        "\r\n"
      ],
      "execution_count": null,
      "outputs": [
        {
          "output_type": "stream",
          "text": [
            "enter a year :2020\n",
            "2020 is a leap year.\n"
          ],
          "name": "stdout"
        }
      ]
    },
    {
      "cell_type": "code",
      "metadata": {
        "colab": {
          "base_uri": "https://localhost:8080/"
        },
        "id": "SuewdLX7aq4i",
        "outputId": "021f1663-0969-4cd6-8135-bd48dabb6ac3"
      },
      "source": [
        "x=int(input(\"enter any number:\"))\r\n",
        "if x>0:\r\n",
        "  print(x,\"is a positive number.\")\r\n",
        "else:\r\n",
        "  print(x,\"is a negative number.\")\r\n"
      ],
      "execution_count": null,
      "outputs": [
        {
          "output_type": "stream",
          "text": [
            "enter any number:6\n",
            "6 is a positive number.\n"
          ],
          "name": "stdout"
        }
      ]
    },
    {
      "cell_type": "code",
      "metadata": {
        "colab": {
          "base_uri": "https://localhost:8080/"
        },
        "id": "Mhpgbi7qbiHU",
        "outputId": "384f0c1c-606f-452d-a5c3-71b2078a0457"
      },
      "source": [
        "n=int(input(\"enter a any number :\"))\r\n",
        "if n<0:\r\n",
        "  print(\"print a positive number.\")\r\n",
        "else:\r\n",
        "  sum=0\r\n",
        "  while (n>0):\r\n",
        "    sum+=n\r\n",
        "    n-=1\r\n",
        "print(\"sum of natural numbers is\",sum)\r\n"
      ],
      "execution_count": null,
      "outputs": [
        {
          "output_type": "stream",
          "text": [
            "enter a any number :2\n",
            "sum of natural numbers is 3\n"
          ],
          "name": "stdout"
        }
      ]
    },
    {
      "cell_type": "code",
      "metadata": {
        "colab": {
          "base_uri": "https://localhost:8080/"
        },
        "id": "koc9yqeKb8Vo",
        "outputId": "9c11af48-0f48-4ee5-8704-5e0a51947b38"
      },
      "source": [
        "n=int(input(\"enter a any number :\"))\r\n",
        "if n<0:\r\n",
        "  print(\"print a positive number.\")\r\n",
        "else:\r\n",
        "  sum=0\r\n",
        "  while (n>0):\r\n",
        "    sum+=n\r\n",
        "    n-=1\r\n",
        "print(\"sum of natural numbers is\",sum)\r\n"
      ],
      "execution_count": null,
      "outputs": [
        {
          "output_type": "stream",
          "text": [
            "enter a any number :2\n",
            "sum of natural numbers is 3\n"
          ],
          "name": "stdout"
        }
      ]
    },
    {
      "cell_type": "code",
      "metadata": {
        "colab": {
          "base_uri": "https://localhost:8080/"
        },
        "id": "axNbOrDwcYVZ",
        "outputId": "bdd04a87-d223-44e5-d2fb-14b7ed301a7c"
      },
      "source": [
        "n=int(input(\"enter any number :\"))\r\n",
        "fact=1\r\n",
        "for i in range(1,n+1):\r\n",
        "  fact=fact*i\r\n",
        "print(\"factorial of\",n,\"is\",fact)\r\n"
      ],
      "execution_count": null,
      "outputs": [
        {
          "output_type": "stream",
          "text": [
            "enter any number :4\n",
            "factorial of 4 is 24\n"
          ],
          "name": "stdout"
        }
      ]
    },
    {
      "cell_type": "code",
      "metadata": {
        "colab": {
          "base_uri": "https://localhost:8080/"
        },
        "id": "h4LSb3ffc3_A",
        "outputId": "5a32745f-41a3-45c3-912f-0c2f646c8ccb"
      },
      "source": [
        "x=int(input(\"show the multiplication table of ?\"))\r\n",
        "for i in range(1,11):\r\n",
        "  print(x,'x',i,'=',x*i)\r\n",
        "\r\n"
      ],
      "execution_count": null,
      "outputs": [
        {
          "output_type": "stream",
          "text": [
            "show the multiplication table of ?2\n",
            "2 x 1 = 2\n",
            "2 x 2 = 4\n",
            "2 x 3 = 6\n",
            "2 x 4 = 8\n",
            "2 x 5 = 10\n",
            "2 x 6 = 12\n",
            "2 x 7 = 14\n",
            "2 x 8 = 16\n",
            "2 x 9 = 18\n",
            "2 x 10 = 20\n"
          ],
          "name": "stdout"
        }
      ]
    },
    {
      "cell_type": "code",
      "metadata": {
        "colab": {
          "base_uri": "https://localhost:8080/"
        },
        "id": "BNpnYjBwe9fv",
        "outputId": "a285bac7-d0c5-453b-a151-ac5875f00b72"
      },
      "source": [
        "n=int(input(\"enter any number :\"))\r\n",
        "x,y =0,1\r\n",
        "count=0\r\n",
        "if n<=0:\r\n",
        "  print(\"enter a positive number.\")\r\n",
        "elif n==1:\r\n",
        "  print(\"fibonacci sequence upto\",n,\":\")\r\n",
        "  print(x)\r\n",
        "else:\r\n",
        "  print(\"fibonacci sequence :\")\r\n",
        "  while count<n:\r\n",
        "    print(x)\r\n",
        "    z=x+y\r\n",
        "    x=y\r\n",
        "    y=z\r\n",
        "    count+=1\r\n"
      ],
      "execution_count": null,
      "outputs": [
        {
          "output_type": "stream",
          "text": [
            "enter any number :2\n",
            "fibonacci sequence :\n",
            "0\n",
            "1\n"
          ],
          "name": "stdout"
        }
      ]
    },
    {
      "cell_type": "code",
      "metadata": {
        "colab": {
          "base_uri": "https://localhost:8080/"
        },
        "id": "9NVMFFvTfhf1",
        "outputId": "078f1b45-e79d-4cb3-c823-f42fb52f80d5"
      },
      "source": [
        "n=int(input(\"enter any number :\"))\r\n",
        "count=0\r\n",
        "while (n>0):\r\n",
        "    count=count+1\r\n",
        "    n=n//10\r\n",
        "print(\"the number of digits in the given number is/are :\",count)\r\n"
      ],
      "execution_count": null,
      "outputs": [
        {
          "output_type": "stream",
          "text": [
            "enter any number :10000000\n",
            "the number of digits in the given number is/are : 8\n"
          ],
          "name": "stdout"
        },
        {
          "output_type": "execute_result",
          "data": {
            "text/plain": [
              "3"
            ]
          },
          "metadata": {
            "tags": []
          },
          "execution_count": 35
        }
      ]
    },
    {
      "cell_type": "code",
      "metadata": {
        "colab": {
          "base_uri": "https://localhost:8080/"
        },
        "id": "Oj_jP9y3f_4M",
        "outputId": "d6e1dbc4-8000-4f78-9ca2-02cd2b1991cc"
      },
      "source": [
        "x=int(input(\"enter any number to be reversed :\"))\r\n",
        "rev=0\r\n",
        "while x>0:\r\n",
        "  rev=(rev*10)+(x%10)\r\n",
        "  x=x//10\r\n",
        "print(\"reverse is\",rev)\r\n"
      ],
      "execution_count": null,
      "outputs": [
        {
          "output_type": "stream",
          "text": [
            "enter any number to be reversed :21\n",
            "reverse is 12\n"
          ],
          "name": "stdout"
        }
      ]
    },
    {
      "cell_type": "code",
      "metadata": {
        "colab": {
          "base_uri": "https://localhost:8080/"
        },
        "id": "w8ridnSViHMS",
        "outputId": "033e1f45-4cd2-40b3-bfc7-9de1b3fb280d"
      },
      "source": [
        "n=int(input(\"enter any positive number :\"))\r\n",
        "e=int(input(\"enter the value of exponent :\"))\r\n",
        "p=1\r\n",
        "for i in range(1,e+1):\r\n",
        "  p=p*n\r\n",
        "print(\"the power of\",n,\"^\",e,\"is\",p)\r\n"
      ],
      "execution_count": null,
      "outputs": [
        {
          "output_type": "stream",
          "text": [
            "enter any positive number :2\n",
            "enter the value of exponent :3\n",
            "the power of 2 ^ 3 is 8\n"
          ],
          "name": "stdout"
        }
      ]
    },
    {
      "cell_type": "code",
      "metadata": {
        "colab": {
          "base_uri": "https://localhost:8080/"
        },
        "id": "3YFiR2l4ifS_",
        "outputId": "ba887a91-902c-44bc-f8f2-334f5e7513b1"
      },
      "source": [
        "n=int(input(\"enter any number :\"))\r\n",
        "rev=0\r\n",
        "temp=n\r\n",
        "while (temp > 0):\r\n",
        "    r=temp%10\r\n",
        "    rev=(rev*10)+r\r\n",
        "    temp=temp//10\r\n",
        "print(\"reverse of this given number is\",rev)\r\n",
        "if (n==rev):\r\n",
        "    print(n,\"is a palindrome number\")\r\n",
        "else:\r\n",
        "    print(n,\"is not a palindrome number\")\r\n"
      ],
      "execution_count": null,
      "outputs": [
        {
          "output_type": "stream",
          "text": [
            "enter any number :456\n",
            "reverse of this given number is 654\n",
            "456 is not a palindrome number\n"
          ],
          "name": "stdout"
        }
      ]
    }
  ]
}